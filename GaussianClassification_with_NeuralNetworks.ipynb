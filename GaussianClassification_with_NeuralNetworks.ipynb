{
 "cells": [
  {
   "cell_type": "code",
   "execution_count": 18,
   "metadata": {
    "collapsed": false
   },
   "outputs": [],
   "source": [
    "from keras.models import Sequential\n",
    "from keras.layers import Dense, Activation, Dropout\n",
    "from keras import optimizers\n",
    "import keras\n",
    "import keras.backend as K\n",
    "import numpy as np\n",
    "import numpy.random as npr"
   ]
  },
  {
   "cell_type": "markdown",
   "metadata": {},
   "source": [
    "## Construct a dataset :"
   ]
  },
  {
   "cell_type": "code",
   "execution_count": 51,
   "metadata": {
    "collapsed": false
   },
   "outputs": [
    {
     "name": "stdout",
     "output_type": "stream",
     "text": [
      "[[ 0.35746153 -0.31116801 -0.37153336 ... -0.18305793 -0.46244723\n",
      "  -0.99455596]\n",
      " [ 2.19039376  3.05911506 -4.11210909 ... -4.48691322  2.44890297\n",
      "   0.85188202]\n",
      " [ 3.80807047  4.37502574  4.20094566 ...  1.15581206  0.66233973\n",
      "  -0.26390945]\n",
      " ...\n",
      " [ 3.67642296 -2.50221088 -7.54791238 ... -1.45929437 -0.16317887\n",
      "   3.01066029]\n",
      " [ 0.98557879  2.87838173  2.99909214 ...  1.98334003  3.92171498\n",
      "   1.96873906]\n",
      " [-0.49930491  2.93224043 -2.06293542 ... -0.39153419  2.86106097\n",
      "   5.70483066]]\n"
     ]
    }
   ],
   "source": [
    "\"\"\"\n",
    "use normal distribution with different std (sigma) and means (mu)\n",
    "\"\"\"\n",
    "sigma1, sigma2, sigma3 = [1, 3, 2]\n",
    "mu1, mu2, mu3 = [0, -1, 2]\n",
    "X = np.concatenate( (sigma1*npr.randn(1000, 30)+mu1, sigma2*npr.randn(1000, 30)+mu2, \\\n",
    "                     sigma3*npr.randn(1000, 30)+mu3), axis=0)\n",
    "\n",
    "Y = np.concatenate( (np.zeros(1000), np.ones(1000), 2*np.ones(1000)), axis=0)\n",
    "Y = keras.utils.to_categorical(Y, num_classes=3)\n",
    "\n",
    "# remove the order in X and Y :\n",
    "perm = npr.permutation(range(3000))\n",
    "X = [X[i] for i in perm]\n",
    "Y = [Y[i] for i in perm]\n",
    "\n",
    "# split to train and test :\n",
    "X_train = np.array(X[:2000])\n",
    "Y_train = np.array(Y[:2000])\n",
    "X_test  = np.array(X[2000:])\n",
    "Y_test  = np.array(Y[2000:])\n",
    "\n",
    "print(X_train)"
   ]
  },
  {
   "cell_type": "markdown",
   "metadata": {},
   "source": [
    "## Construct the Neural Network model :"
   ]
  },
  {
   "cell_type": "code",
   "execution_count": 26,
   "metadata": {
    "collapsed": false
   },
   "outputs": [],
   "source": [
    "## Define the odel : 3 fully connected layers using dropout\n",
    "model = Sequential()\n",
    "model.add(Dense(64, activation='relu', input_shape=(30,)))\n",
    "model.add(Dropout(0.5))\n",
    "model.add(Dense(32, activation='relu'))\n",
    "model.add(Dropout(0.5))\n",
    "model.add(Dense(3, activation='softmax'))\n",
    "\n",
    "## Optimization process :\n",
    "sgd = optimizers.SGD(lr=0.01, decay=1e-6, momentum=0.9, nesterov=True)\n",
    "model.compile(loss='categorical_crossentropy',\n",
    "              optimizer=sgd,\n",
    "              metrics=['accuracy'])\n"
   ]
  },
  {
   "cell_type": "markdown",
   "metadata": {},
   "source": [
    "## Fitting the data and getting the test accuracy :"
   ]
  },
  {
   "cell_type": "code",
   "execution_count": 41,
   "metadata": {
    "collapsed": false
   },
   "outputs": [
    {
     "name": "stdout",
     "output_type": "stream",
     "text": [
      "Epoch 1/10\n",
      "2000/2000 [==============================] - 0s 28us/step - loss: 0.2081 - acc: 0.9410\b\b\b\b\b\b\b\b\b\b\b\b\b\b\b\b\b\b\b\b\b\b\b\b\b\b\b\b\b\b\b\b\b\b\b\b\b\b\b\b\b\b\b\b\b\b\b\b\b\b\b\b\b\b\b\b\b\b\b\b\b\b\b\b\b\b\b\b\b\b\b\b\b\b\b\b\n",
      "Epoch 2/10\n",
      "2000/2000 [==============================] - 0s 26us/step - loss: 0.2101 - acc: 0.9275\b\b\b\b\b\b\b\b\b\b\b\b\b\b\b\b\b\b\b\b\b\b\b\b\b\b\b\b\b\b\b\b\b\b\b\b\b\b\b\b\b\b\b\b\b\b\b\b\b\b\b\b\b\b\b\b\b\b\b\b\b\b\b\b\b\b\b\b\b\b\b\b\b\b\b\b\n",
      "Epoch 3/10\n",
      "2000/2000 [==============================] - 0s 25us/step - loss: 0.1871 - acc: 0.9380\b\b\b\b\b\b\b\b\b\b\b\b\b\b\b\b\b\b\b\b\b\b\b\b\b\b\b\b\b\b\b\b\b\b\b\b\b\b\b\b\b\b\b\b\b\b\b\b\b\b\b\b\b\b\b\b\b\b\b\b\b\b\b\b\b\b\b\b\b\b\b\b\b\b\b\b\n",
      "Epoch 4/10\n",
      "2000/2000 [==============================] - 0s 23us/step - loss: 0.1838 - acc: 0.9410\b\b\b\b\b\b\b\b\b\b\b\b\b\b\b\b\b\b\b\b\b\b\b\b\b\b\b\b\b\b\b\b\b\b\b\b\b\b\b\b\b\b\b\b\b\b\b\b\b\b\b\b\b\b\b\b\b\b\b\b\b\b\b\b\b\b\b\b\b\b\b\b\b\b\b\b\n",
      "Epoch 5/10\n",
      "2000/2000 [==============================] - 0s 23us/step - loss: 0.1775 - acc: 0.9370\b\b\b\b\b\b\b\b\b\b\b\b\b\b\b\b\b\b\b\b\b\b\b\b\b\b\b\b\b\b\b\b\b\b\b\b\b\b\b\b\b\b\b\b\b\b\b\b\b\b\b\b\b\b\b\b\b\b\b\b\b\b\b\b\b\b\b\b\b\b\b\b\b\b\b\b\n",
      "Epoch 6/10\n",
      "2000/2000 [==============================] - 0s 23us/step - loss: 0.1719 - acc: 0.9465\b\b\b\b\b\b\b\b\b\b\b\b\b\b\b\b\b\b\b\b\b\b\b\b\b\b\b\b\b\b\b\b\b\b\b\b\b\b\b\b\b\b\b\b\b\b\b\b\b\b\b\b\b\b\b\b\b\b\b\b\b\b\b\b\b\b\b\b\b\b\b\b\b\b\b\b\n",
      "Epoch 7/10\n",
      "2000/2000 [==============================] - 0s 26us/step - loss: 0.1725 - acc: 0.9425\b\b\b\b\b\b\b\b\b\b\b\b\b\b\b\b\b\b\b\b\b\b\b\b\b\b\b\b\b\b\b\b\b\b\b\b\b\b\b\b\b\b\b\b\b\b\b\b\b\b\b\b\b\b\b\b\b\b\b\b\b\b\b\b\b\b\b\b\b\b\b\b\b\b\b\b\n",
      "Epoch 8/10\n",
      "2000/2000 [==============================] - 0s 25us/step - loss: 0.1619 - acc: 0.9465\b\b\b\b\b\b\b\b\b\b\b\b\b\b\b\b\b\b\b\b\b\b\b\b\b\b\b\b\b\b\b\b\b\b\b\b\b\b\b\b\b\b\b\b\b\b\b\b\b\b\b\b\b\b\b\b\b\b\b\b\b\b\b\b\b\b\b\b\b\b\b\b\b\b\b\b\n",
      "Epoch 9/10\n",
      "2000/2000 [==============================] - 0s 29us/step - loss: 0.1737 - acc: 0.9430\b\b\b\b\b\b\b\b\b\b\b\b\b\b\b\b\b\b\b\b\b\b\b\b\b\b\b\b\b\b\b\b\b\b\b\b\b\b\b\b\b\b\b\b\b\b\b\b\b\b\b\b\b\b\b\b\b\b\b\b\b\b\b\b\b\b\b\b\b\b\b\b\b\b\b\b\b\b\b\b\b\b\b\b\b\b\b\b\b\b\b\b\b\b\b\b\b\b\b\b\b\b\b\b\b\b\b\b\b\b\b\b\b\b\b\b\b\b\b\b\b\b\b\b\b\b\b\b\b\b\b\b\b\b\b\b\b\b\b\b\b\b\b\b\b\b\b\b\b\b\b\b\b\b\b\b\b\n",
      "Epoch 10/10\n",
      "2000/2000 [==============================] - 0s 25us/step - loss: 0.1516 - acc: 0.9465\b\b\b\b\b\b\b\b\b\b\b\b\b\b\b\b\b\b\b\b\b\b\b\b\b\b\b\b\b\b\b\b\b\b\b\b\b\b\b\b\b\b\b\b\b\b\b\b\b\b\b\b\b\b\b\b\b\b\b\b\b\b\b\b\b\b\b\b\b\b\b\b\b\b\b\b\n"
     ]
    },
    {
     "data": {
      "text/plain": [
       "<keras.callbacks.History at 0x11fd59ac8>"
      ]
     },
     "execution_count": 41,
     "metadata": {},
     "output_type": "execute_result"
    }
   ],
   "source": [
    "model.fit(X_train, Y_train, epochs=10, batch_size=128)"
   ]
  },
  {
   "cell_type": "code",
   "execution_count": 45,
   "metadata": {
    "collapsed": false
   },
   "outputs": [
    {
     "name": "stdout",
     "output_type": "stream",
     "text": [
      "1000/1000 [==============================] - 0s 13us/step\b\b\b\b\b\b\b\b\b\b\b\b\b\b\b\b\b\b\b\b\b\b\b\b\b\b\b\b\b\b\b\b\b\b\b\b\b\b\b\b\b\b\b\b\b\b\b\n",
      "The final accuracy is :  0.965999997138977\n"
     ]
    }
   ],
   "source": [
    "score = model.evaluate(X_test, Y_test, batch_size=128)\n",
    "loss, accuracy = score\n",
    "print(\"The final accuracy is : \", accuracy)"
   ]
  },
  {
   "cell_type": "code",
   "execution_count": 48,
   "metadata": {
    "collapsed": true
   },
   "outputs": [],
   "source": [
    "## Save the model for further use :\n",
    "model.save('Gaussian_classifiacation.h5')"
   ]
  },
  {
   "cell_type": "markdown",
   "metadata": {},
   "source": [
    "## Prediction of new data :"
   ]
  },
  {
   "cell_type": "code",
   "execution_count": 58,
   "metadata": {
    "collapsed": false
   },
   "outputs": [
    {
     "data": {
      "text/plain": [
       "array([ 0.89788935,  0.63084127, -1.37037219, -2.57497131,  1.79671616,\n",
       "       -2.24776196,  0.5249995 ,  1.1057847 ,  0.35656117,  0.38934683,\n",
       "       -1.23869362,  1.80468843,  0.86973401, -0.08910254, -1.33239671,\n",
       "       -1.1408738 , -0.00408298,  0.80808553, -0.23403174, -0.75854554,\n",
       "       -0.07838511, -0.27905003, -0.15668795, -1.89506356, -0.15766783,\n",
       "       -0.8586484 ,  0.34716887,  0.78201906, -1.3786292 , -0.01774173])"
      ]
     },
     "execution_count": 58,
     "metadata": {},
     "output_type": "execute_result"
    }
   ],
   "source": [
    "X_test[0, :]"
   ]
  },
  {
   "cell_type": "code",
   "execution_count": 59,
   "metadata": {
    "collapsed": false
   },
   "outputs": [
    {
     "data": {
      "text/plain": [
       "array([[8.4887505e-01, 1.4981197e-01, 1.3129446e-03],\n",
       "       [1.2602730e-01, 8.7397265e-01, 1.7110310e-08],\n",
       "       [4.6246674e-05, 3.6447009e-06, 9.9995005e-01],\n",
       "       ...,\n",
       "       [1.3471890e-03, 9.9865282e-01, 4.5577322e-15],\n",
       "       [8.6416447e-01, 4.1386396e-02, 9.4449110e-02],\n",
       "       [8.8106573e-01, 1.1413949e-01, 4.7948048e-03]], dtype=float32)"
      ]
     },
     "execution_count": 59,
     "metadata": {},
     "output_type": "execute_result"
    }
   ],
   "source": [
    "model.predict(X_test)"
   ]
  },
  {
   "cell_type": "code",
   "execution_count": 74,
   "metadata": {
    "collapsed": false
   },
   "outputs": [
    {
     "data": {
      "text/plain": [
       "array([0])"
      ]
     },
     "execution_count": 74,
     "metadata": {},
     "output_type": "execute_result"
    }
   ],
   "source": [
    "model.predict_classes(np.array([X_test[0]]))"
   ]
  },
  {
   "cell_type": "code",
   "execution_count": 75,
   "metadata": {
    "collapsed": false
   },
   "outputs": [
    {
     "data": {
      "text/plain": [
       "array([1., 0., 0.])"
      ]
     },
     "execution_count": 75,
     "metadata": {},
     "output_type": "execute_result"
    }
   ],
   "source": [
    "Y_test[0]"
   ]
  },
  {
   "cell_type": "code",
   "execution_count": null,
   "metadata": {
    "collapsed": true
   },
   "outputs": [],
   "source": []
  },
  {
   "cell_type": "code",
   "execution_count": null,
   "metadata": {
    "collapsed": true
   },
   "outputs": [],
   "source": []
  }
 ],
 "metadata": {
  "kernelspec": {
   "display_name": "Python 3",
   "language": "python",
   "name": "python3"
  },
  "language_info": {
   "codemirror_mode": {
    "name": "ipython",
    "version": 3
   },
   "file_extension": ".py",
   "mimetype": "text/x-python",
   "name": "python",
   "nbconvert_exporter": "python",
   "pygments_lexer": "ipython3",
   "version": "3.6.0"
  }
 },
 "nbformat": 4,
 "nbformat_minor": 2
}
